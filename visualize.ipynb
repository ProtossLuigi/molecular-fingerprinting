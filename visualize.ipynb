{
 "cells": [
  {
   "cell_type": "code",
   "execution_count": 1,
   "metadata": {},
   "outputs": [],
   "source": [
    "from sklearn.metrics import RocCurveDisplay, roc_auc_score\n",
    "import torch\n",
    "from torch import nn\n",
    "from torch.utils.data import Dataset, DataLoader, random_split\n",
    "import safetensors\n",
    "from tqdm import tqdm"
   ]
  },
  {
   "cell_type": "code",
   "execution_count": 2,
   "metadata": {},
   "outputs": [],
   "source": [
    "from src.datasets import LabeledDataset\n",
    "from src.models import MLPModel"
   ]
  },
  {
   "cell_type": "code",
   "execution_count": 3,
   "metadata": {},
   "outputs": [],
   "source": [
    "device = torch.device('cuda:0') if torch.cuda.is_available() else torch.device('cpu')"
   ]
  },
  {
   "cell_type": "code",
   "execution_count": 4,
   "metadata": {},
   "outputs": [],
   "source": [
    "safe = safetensors.safe_open('models/trained_model/model.safetensors', framework='pt', device=0)"
   ]
  },
  {
   "cell_type": "code",
   "execution_count": 5,
   "metadata": {},
   "outputs": [],
   "source": [
    "state_dict = {key: safe.get_tensor(key) for key in safe.keys()}"
   ]
  },
  {
   "cell_type": "code",
   "execution_count": 6,
   "metadata": {},
   "outputs": [
    {
     "data": {
      "text/plain": [
       "MLPModel(\n",
       "  (net): Sequential(\n",
       "    (0): Flatten(start_dim=1, end_dim=-1)\n",
       "    (1): Linear(in_features=3360, out_features=2048, bias=True)\n",
       "    (2): PReLU(num_parameters=1)\n",
       "    (3): Linear(in_features=2048, out_features=1024, bias=True)\n",
       "    (4): PReLU(num_parameters=1)\n",
       "    (5): Linear(in_features=1024, out_features=512, bias=True)\n",
       "    (6): PReLU(num_parameters=1)\n",
       "    (7): Linear(in_features=512, out_features=256, bias=True)\n",
       "    (8): PReLU(num_parameters=1)\n",
       "    (9): Linear(in_features=256, out_features=1, bias=True)\n",
       "  )\n",
       "  (loss_fn): BCEWithLogitsLoss()\n",
       ")"
      ]
     },
     "execution_count": 6,
     "metadata": {},
     "output_type": "execute_result"
    }
   ],
   "source": [
    "model = MLPModel([2048, 1024, 512, 256], nn.PReLU).to(device)\n",
    "model.load_state_dict(state_dict)\n",
    "model.eval()"
   ]
  },
  {
   "cell_type": "code",
   "execution_count": 7,
   "metadata": {},
   "outputs": [
    {
     "data": {
      "text/plain": [
       "MLPModel(\n",
       "  (net): Sequential(\n",
       "    (0): Flatten(start_dim=1, end_dim=-1)\n",
       "    (1): Linear(in_features=3360, out_features=2048, bias=True)\n",
       "    (2): PReLU(num_parameters=1)\n",
       "    (3): Linear(in_features=2048, out_features=1024, bias=True)\n",
       "    (4): PReLU(num_parameters=1)\n",
       "    (5): Linear(in_features=1024, out_features=512, bias=True)\n",
       "    (6): PReLU(num_parameters=1)\n",
       "    (7): Linear(in_features=512, out_features=256, bias=True)\n",
       "    (8): PReLU(num_parameters=1)\n",
       "    (9): Linear(in_features=256, out_features=1, bias=True)\n",
       "  )\n",
       "  (loss_fn): BCEWithLogitsLoss()\n",
       ")"
      ]
     },
     "execution_count": 7,
     "metadata": {},
     "output_type": "execute_result"
    }
   ],
   "source": [
    "model"
   ]
  },
  {
   "cell_type": "code",
   "execution_count": 8,
   "metadata": {},
   "outputs": [],
   "source": [
    "ds = torch.load('data/dataset.pt', weights_only=False)\n",
    "ds = LabeledDataset(ds, active_label=1)\n",
    "generator = torch.Generator().manual_seed(42)\n",
    "splits = random_split(ds, [.8, .1, .1], generator)\n",
    "ds = {\n",
    "    'train': splits[0],\n",
    "    'dev': splits[1],\n",
    "    'test': splits[2]\n",
    "}"
   ]
  },
  {
   "cell_type": "code",
   "execution_count": 9,
   "metadata": {},
   "outputs": [],
   "source": [
    "dl = DataLoader(ds['test'], batch_size=1024, shuffle=False, pin_memory=True)"
   ]
  },
  {
   "cell_type": "code",
   "execution_count": 10,
   "metadata": {},
   "outputs": [
    {
     "name": "stderr",
     "output_type": "stream",
     "text": [
      "Evaluating: 100%|██████████| 4/4 [00:00<00:00,  8.80it/s]\n"
     ]
    }
   ],
   "source": [
    "y_true = []\n",
    "y_pred = []\n",
    "\n",
    "with torch.no_grad():\n",
    "    for batch in tqdm(dl, desc='Evaluating'):\n",
    "        y_true.append(batch['labels'])\n",
    "        X_batch = batch['inputs'].to(device)\n",
    "        logits = model(X_batch)['logits']\n",
    "        y_pred.append(nn.functional.sigmoid(logits).cpu())\n",
    "\n",
    "y_true = torch.cat(y_true)\n",
    "y_pred = torch.cat(y_pred)\n",
    "    "
   ]
  },
  {
   "cell_type": "code",
   "execution_count": 11,
   "metadata": {},
   "outputs": [
    {
     "data": {
      "text/plain": [
       "tensor([8.7293e-08, 1.0000e+00, 1.0833e-02,  ..., 1.0000e+00, 1.0000e+00,\n",
       "        1.0000e+00])"
      ]
     },
     "execution_count": 11,
     "metadata": {},
     "output_type": "execute_result"
    }
   ],
   "source": [
    "y_pred"
   ]
  },
  {
   "cell_type": "code",
   "execution_count": 12,
   "metadata": {},
   "outputs": [
    {
     "data": {
      "text/plain": [
       "np.float64(0.9969943917981048)"
      ]
     },
     "execution_count": 12,
     "metadata": {},
     "output_type": "execute_result"
    }
   ],
   "source": [
    "roc_auc_score(y_true, y_pred)"
   ]
  },
  {
   "cell_type": "code",
   "execution_count": 13,
   "metadata": {},
   "outputs": [
    {
     "data": {
      "text/plain": [
       "[Text(0.5, 0, 'False Positive Rate'),\n",
       " Text(0, 0.5, 'True Positive Rate'),\n",
       " Text(0.5, 1.0, 'ROC lung cancer Classification')]"
      ]
     },
     "execution_count": 13,
     "metadata": {},
     "output_type": "execute_result"
    },
    {
     "data": {
      "image/png": "[encoded data removed]",
      "text/plain": [
       "<Figure size 640x480 with 1 Axes>"
      ]
     },
     "metadata": {},
     "output_type": "display_data"
    }
   ],
   "source": [
    "display = RocCurveDisplay.from_predictions(\n",
    "    y_true,\n",
    "    y_pred,\n",
    "    name=f\"Simulations\",\n",
    "    plot_chance_level=True,\n",
    "    # despine=True,\n",
    ")\n",
    "display.ax_.set(\n",
    "    xlabel=\"False Positive Rate\",\n",
    "    ylabel=\"True Positive Rate\",\n",
    "    title=\"ROC lung cancer Classification\",\n",
    ")"
   ]
  }
 ],
 "metadata": {
  "kernelspec": {
   "display_name": ".venv",
   "language": "python",
   "name": "python3"
  },
  "language_info": {
   "codemirror_mode": {
    "name": "ipython",
    "version": 3
   },
   "file_extension": ".py",
   "mimetype": "text/x-python",
   "name": "python",
   "nbconvert_exporter": "python",
   "pygments_lexer": "ipython3",
   "version": "3.12.3"
  }
 },
 "nbformat": 4,
 "nbformat_minor": 2
}
