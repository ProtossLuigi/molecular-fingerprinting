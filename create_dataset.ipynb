{
 "cells": [
  {
   "cell_type": "code",
   "execution_count": null,
   "metadata": {},
   "outputs": [],
   "source": [
    "import numpy as np\n",
    "import pandas as pd\n",
    "from datasets import Dataset, DatasetDict"
   ]
  },
  {
   "cell_type": "code",
   "execution_count": null,
   "metadata": {},
   "outputs": [],
   "source": [
    "df = pd.read_feather('data/feather/FRS_simulations_with_sex_and_lung_cancer.feather')"
   ]
  },
  {
   "cell_type": "code",
   "execution_count": null,
   "metadata": {},
   "outputs": [],
   "source": [
    "ds = Dataset.from_pandas(df)"
   ]
  },
  {
   "cell_type": "code",
   "execution_count": null,
   "metadata": {},
   "outputs": [],
   "source": [
    "complex_cols = list(ds.features.keys())[:-2]\n",
    "\n",
    "def transform(complex_sample):\n",
    "    data = []\n",
    "    for colname in complex_cols:\n",
    "        val = complex(complex_sample[colname])\n",
    "        data.append([val.real, val.imag, np.abs(val), np.angle(val)])\n",
    "    return {'data': data}\n",
    "\n",
    "ds = ds.map(transform, remove_columns=complex_cols)\n",
    "ds = ds.rename_columns({'Label': 'label', 'sex_numeric': 'sex_label'})\n",
    "ds = ds.with_format('torch')"
   ]
  },
  {
   "cell_type": "code",
   "execution_count": null,
   "metadata": {},
   "outputs": [],
   "source": [
    "split1 = ds.train_test_split(.2)\n",
    "split2 = split1['test'].train_test_split(.5)\n",
    "dsd = DatasetDict({\n",
    "    'train': split1['train'],\n",
    "    'dev': split2['train'],\n",
    "    'test': split2['test']\n",
    "})"
   ]
  },
  {
   "cell_type": "code",
   "execution_count": null,
   "metadata": {},
   "outputs": [],
   "source": [
    "dsd"
   ]
  },
  {
   "cell_type": "code",
   "execution_count": null,
   "metadata": {},
   "outputs": [],
   "source": [
    "dsd.save_to_disk('data/dataset')"
   ]
  }
 ],
 "metadata": {
  "kernelspec": {
   "display_name": ".venv",
   "language": "python",
   "name": "python3"
  },
  "language_info": {
   "codemirror_mode": {
    "name": "ipython",
    "version": 3
   },
   "file_extension": ".py",
   "mimetype": "text/x-python",
   "name": "python",
   "nbconvert_exporter": "python",
   "pygments_lexer": "ipython3",
   "version": "3.12.3"
  }
 },
 "nbformat": 4,
 "nbformat_minor": 2
}
